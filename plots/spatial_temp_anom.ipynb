{
 "cells": [
  {
   "cell_type": "code",
   "execution_count": 2,
   "id": "2e9dc699",
   "metadata": {},
   "outputs": [],
   "source": [
    "import xarray as xr\n",
    "import matplotlib.pyplot as plt\n",
    "import numpy as np\n",
    "import cartopy.crs as ccrs\n",
    "\n",
    "%matplotlib qt"
   ]
  },
  {
   "cell_type": "code",
   "execution_count": 3,
   "id": "e7f293e1",
   "metadata": {},
   "outputs": [
    {
     "name": "stdout",
     "output_type": "stream",
     "text": [
      "Total number of dates: 1723\n"
     ]
    }
   ],
   "source": [
    "ghcn_file = 'gistemp1200_GHCNv4_ERSSTv5.nc'\n",
    "ds = xr.open_dataset(ghcn_file)\n",
    "dates = ds['time'].values\n",
    "print(f'Total number of dates: {len(dates)}')"
   ]
  },
  {
   "cell_type": "code",
   "execution_count": 4,
   "id": "87bd91f8",
   "metadata": {},
   "outputs": [],
   "source": [
    "# Create dictionary for plotting individual months\n",
    "# (plotting all points would take too long)\n",
    "month_dict = {}\n",
    "month_dict['Jan'] = 0\n",
    "month_dict['Feb'] = 1\n",
    "month_dict['Mar'] = 2\n",
    "month_dict['Apr'] = 3\n",
    "month_dict['May'] = 4\n",
    "month_dict['Jun'] = 5\n",
    "month_dict['Jul'] = 6\n",
    "month_dict['Aug'] = 7\n",
    "month_dict['Sep'] = 8\n",
    "month_dict['Oct'] = 9\n",
    "month_dict['Nov'] = 10\n",
    "month_dict['Dec'] = 11"
   ]
  },
  {
   "cell_type": "code",
   "execution_count": 5,
   "id": "a94a9720",
   "metadata": {},
   "outputs": [],
   "source": [
    "def spatial_temp_plot(month='Jan'):\n",
    "\n",
    "    # Collect all dates for given month\n",
    "    month_dates = []\n",
    "    for i in range(len(dates)):\n",
    "        if i % 12 == month_dict[month]:\n",
    "            month_dates.append(dates[i])\n",
    "\n",
    "    # Initialize figure\n",
    "    fig = plt.figure(figsize=(10,6))\n",
    "\n",
    "    # Set counter and min/max values\n",
    "    counter = 0\n",
    "    max_val = 5\n",
    "    min_val = -max_val\n",
    "    num_points = len(month_dates) - 1\n",
    "\n",
    "    # Loop through all dates\n",
    "    while True:\n",
    "\n",
    "        # Plot temperature anomaly for each month\n",
    "        data = ds['tempanomaly'].sel(time=month_dates[counter])\n",
    "        ax = plt.axes(projection=ccrs.Robinson())\n",
    "        ax.coastlines()\n",
    "        ax.gridlines()\n",
    "        data.plot.pcolormesh(ax=ax,\n",
    "                  cmap='seismic',\n",
    "                  transform=ccrs.PlateCarree(),\n",
    "                  cbar_kwargs={'orientation':'horizontal', 'pad':0.1},\n",
    "                  vmin=min_val,\n",
    "                  vmax=max_val)\n",
    "        plt.draw()\n",
    "        date = str(data.time.values).split('T')[0]\n",
    "        plt.title(date)\n",
    "        plt.pause(10**(-10))\n",
    "\n",
    "        # Clear plot to make room for next one\n",
    "        if counter < num_points:\n",
    "            plt.clf()\n",
    "\n",
    "        # Stop plotting if last date reached\n",
    "        else:\n",
    "            break\n",
    "\n",
    "        # Increment counter\n",
    "        counter += 1"
   ]
  },
  {
   "cell_type": "code",
   "execution_count": 6,
   "id": "d33625ed",
   "metadata": {},
   "outputs": [],
   "source": [
    "spatial_temp_plot('Oct')"
   ]
  },
  {
   "cell_type": "code",
   "execution_count": null,
   "id": "82f9d2b1",
   "metadata": {},
   "outputs": [],
   "source": []
  }
 ],
 "metadata": {
  "kernelspec": {
   "display_name": "climate",
   "language": "python",
   "name": "climate"
  },
  "language_info": {
   "codemirror_mode": {
    "name": "ipython",
    "version": 3
   },
   "file_extension": ".py",
   "mimetype": "text/x-python",
   "name": "python",
   "nbconvert_exporter": "python",
   "pygments_lexer": "ipython3",
   "version": "3.11.3"
  }
 },
 "nbformat": 4,
 "nbformat_minor": 5
}
